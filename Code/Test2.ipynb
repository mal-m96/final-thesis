{
 "cells": [
  {
   "cell_type": "code",
   "execution_count": null,
   "id": "e84e7bdd",
   "metadata": {},
   "outputs": [],
   "source": [
    "import numpy as np\n",
    "import time\n",
    "import pandas as pd\n",
    "from sklearn import preprocessing\n",
    "from sklearn.impute import SimpleImputer\n",
    "from sklearn.preprocessing import LabelEncoder\n",
    "from sklearn.preprocessing import StandardScaler\n",
    "from sklearn.ensemble import RandomForestClassifier\n",
    "import gzip\n",
    "\n",
    "df = pd.read_table(\"SNV/MANIFEST.txt\")\n",
    "fileslist = []\n",
    "header = []\n",
    "for file_name in df[0:33][\"filename\"]:\n",
    "    fileslist.append(file_name)\n",
    "with gzip.open(\"SNV/\"+fileslist[0],\"rb\") as f:\n",
    "    print(f)\n",
    "    i = 0\n",
    "    while i <=4:\n",
    "        header.append(f.readline())\n",
    "        i += 1\n",
    "    mf = pd.read_csv(f, delimiter = \"\\t\")\n",
    "    table = mf[0:]\n",
    "table.describe(include=\"all\")"
   ]
  }
 ],
 "metadata": {
  "kernelspec": {
   "display_name": "Python 3",
   "language": "python",
   "name": "python3"
  },
  "language_info": {
   "codemirror_mode": {
    "name": "ipython",
    "version": 3
   },
   "file_extension": ".py",
   "mimetype": "text/x-python",
   "name": "python",
   "nbconvert_exporter": "python",
   "pygments_lexer": "ipython3",
   "version": "3.8.8"
  }
 },
 "nbformat": 4,
 "nbformat_minor": 5
}
