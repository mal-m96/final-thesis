{
 "cells": [
  {
   "cell_type": "code",
   "execution_count": 1,
   "id": "efff170b",
   "metadata": {
    "scrolled": true
   },
   "outputs": [
    {
     "name": "stdout",
     "output_type": "stream",
     "text": [
      "<gzip _io.BufferedReader name='SNV/02747363-f04a-4ba6-a079-fe4f87853788/TCGA.UCS.mutect.02747363-f04a-4ba6-a079-fe4f87853788.DR-10.0.somatic.maf.gz' 0x7f0ee416cc10>\n"
     ]
    }
   ],
   "source": [
    "import numpy as np\n",
    "import time\n",
    "import pandas as pd\n",
    "from sklearn import preprocessing\n",
    "from sklearn.impute import SimpleImputer\n",
    "from sklearn.preprocessing import LabelEncoder\n",
    "from sklearn.preprocessing import StandardScaler\n",
    "from sklearn.ensemble import RandomForestClassifier\n",
    "import gzip\n",
    "\n",
    "df = pd.read_table(\"SNV/MANIFEST.txt\")\n",
    "fileslist = []\n",
    "header = []\n",
    "for file_name in df[0:33][\"filename\"]:\n",
    "    fileslist.append(file_name)\n",
    "with gzip.open(\"SNV/\"+fileslist[0],\"rb\") as f:\n",
    "    print(f)\n",
    "    i = 0\n",
    "    while i <=4:\n",
    "        header.append(f.readline())\n",
    "        i += 1\n",
    "    mf = pd.read_csv(f, delimiter = \"\\t\")\n",
    "    table = mf[0:]"
   ]
  },
  {
   "cell_type": "code",
   "execution_count": 2,
   "id": "c36096a0",
   "metadata": {},
   "outputs": [],
   "source": [
    "genes_id = table.loc[:,[\"Hugo_Symbol\"]].values\n",
    "number_of_rows = len(genes_id)\n",
    "features = table.drop([\"Hugo_Symbol\"], axis = 1)"
   ]
  },
  {
   "cell_type": "code",
   "execution_count": 3,
   "id": "1a11d989",
   "metadata": {},
   "outputs": [
    {
     "name": "stdout",
     "output_type": "stream",
     "text": [
      "<class 'pandas.core.frame.DataFrame'>\n",
      "RangeIndex: 10449 entries, 0 to 10448\n",
      "Columns: 119 entries, Entrez_Gene_Id to GDC_Validation_Status\n",
      "dtypes: bool(1), float64(39), int64(10), object(69)\n",
      "memory usage: 9.4+ MB\n"
     ]
    }
   ],
   "source": [
    "features.info()"
   ]
  },
  {
   "cell_type": "code",
   "execution_count": 5,
   "id": "26192ee1",
   "metadata": {},
   "outputs": [
    {
     "name": "stdout",
     "output_type": "stream",
     "text": [
      "<class 'pandas.core.frame.DataFrame'>\n",
      "RangeIndex: 10449 entries, 0 to 10448\n",
      "Columns: 158420 entries, Entrez_Gene_Id to GDC_Validation_Status_Valid\n",
      "dtypes: bool(1), float64(21), int64(10), uint8(158388)\n",
      "memory usage: 1.5 GB\n"
     ]
    }
   ],
   "source": [
    "f = features.dropna(axis=1,how=\"all\") #remove columns with all values NaN\n",
    "f = pd.get_dummies(data=f)\n",
    "f.info()"
   ]
  },
  {
   "cell_type": "code",
   "execution_count": 24,
   "id": "8e912b0f",
   "metadata": {},
   "outputs": [
    {
     "name": "stdout",
     "output_type": "stream",
     "text": [
      "       Entrez_Gene_Id_0  Entrez_Gene_Id_2  Entrez_Gene_Id_10  \\\n",
      "0                     0                 0                  0   \n",
      "1                     0                 0                  0   \n",
      "2                     0                 0                  0   \n",
      "3                     0                 0                  0   \n",
      "4                     0                 0                  0   \n",
      "...                 ...               ...                ...   \n",
      "10444                 0                 0                  0   \n",
      "10445                 0                 0                  0   \n",
      "10446                 0                 0                  0   \n",
      "10447                 0                 0                  0   \n",
      "10448                 0                 0                  0   \n",
      "\n",
      "       Entrez_Gene_Id_13  Entrez_Gene_Id_16  Entrez_Gene_Id_19  \\\n",
      "0                      0                  0                  0   \n",
      "1                      0                  0                  0   \n",
      "2                      0                  0                  0   \n",
      "3                      0                  0                  0   \n",
      "4                      0                  0                  0   \n",
      "...                  ...                ...                ...   \n",
      "10444                  0                  0                  0   \n",
      "10445                  0                  0                  0   \n",
      "10446                  0                  0                  0   \n",
      "10447                  0                  0                  0   \n",
      "10448                  0                  0                  0   \n",
      "\n",
      "       Entrez_Gene_Id_21  Entrez_Gene_Id_22  Entrez_Gene_Id_24  \\\n",
      "0                      0                  0                  0   \n",
      "1                      0                  0                  0   \n",
      "2                      0                  0                  0   \n",
      "3                      0                  0                  0   \n",
      "4                      0                  0                  0   \n",
      "...                  ...                ...                ...   \n",
      "10444                  0                  0                  0   \n",
      "10445                  0                  0                  0   \n",
      "10446                  0                  0                  0   \n",
      "10447                  0                  0                  0   \n",
      "10448                  0                  0                  0   \n",
      "\n",
      "       Entrez_Gene_Id_25  ...  COSMIC_COSN5030282  COSMIC_COSN518753  \\\n",
      "0                      0  ...                   0                  0   \n",
      "1                      0  ...                   0                  0   \n",
      "2                      0  ...                   0                  0   \n",
      "3                      0  ...                   0                  0   \n",
      "4                      0  ...                   0                  0   \n",
      "...                  ...  ...                 ...                ...   \n",
      "10444                  0  ...                   0                  0   \n",
      "10445                  0  ...                   0                  0   \n",
      "10446                  0  ...                   0                  0   \n",
      "10447                  0  ...                   0                  0   \n",
      "10448                  0  ...                   0                  0   \n",
      "\n",
      "       COSMIC_COSN5762105;COSN5762106  COSMIC_COSN7126972  COSMIC_COSN8356956  \\\n",
      "0                                   0                   0                   0   \n",
      "1                                   0                   0                   0   \n",
      "2                                   0                   0                   0   \n",
      "3                                   0                   0                   0   \n",
      "4                                   0                   0                   0   \n",
      "...                               ...                 ...                 ...   \n",
      "10444                               0                   0                   0   \n",
      "10445                               0                   0                   0   \n",
      "10446                               0                   0                   0   \n",
      "10447                               0                   0                   0   \n",
      "10448                               0                   0                   0   \n",
      "\n",
      "       COSMIC_COSN8922804  MC3_Overlap_False  MC3_Overlap_True  \\\n",
      "0                       0                  0                 1   \n",
      "1                       0                  0                 1   \n",
      "2                       0                  0                 1   \n",
      "3                       0                  1                 0   \n",
      "4                       0                  0                 1   \n",
      "...                   ...                ...               ...   \n",
      "10444                   0                  0                 1   \n",
      "10445                   0                  0                 1   \n",
      "10446                   0                  0                 1   \n",
      "10447                   0                  0                 1   \n",
      "10448                   0                  0                 1   \n",
      "\n",
      "       GDC_Validation_Status_Unknown  GDC_Validation_Status_Valid  \n",
      "0                                  0                            1  \n",
      "1                                  0                            1  \n",
      "2                                  1                            0  \n",
      "3                                  1                            0  \n",
      "4                                  1                            0  \n",
      "...                              ...                          ...  \n",
      "10444                              1                            0  \n",
      "10445                              1                            0  \n",
      "10446                              1                            0  \n",
      "10447                              1                            0  \n",
      "10448                              1                            0  \n",
      "\n",
      "[10449 rows x 191129 columns]\n"
     ]
    }
   ],
   "source": [
    "print(x)\n",
    "ffx0\n",
    "= pd.get_dummies(x)"
   ]
  },
  {
   "cell_type": "code",
   "execution_count": 9,
   "id": "f4caa0ed",
   "metadata": {},
   "outputs": [
    {
     "data": {
      "text/plain": [
       "Entrez_Gene_Id                   0\n",
       "Start_Position                   0\n",
       "End_Position                     0\n",
       "t_depth                          0\n",
       "t_ref_count                      0\n",
       "                                ..\n",
       "COSMIC_COSN8922804               0\n",
       "COSMIC_nan                       0\n",
       "GDC_Validation_Status_Unknown    0\n",
       "GDC_Validation_Status_Valid      0\n",
       "GDC_Validation_Status_nan        0\n",
       "Length: 158489, dtype: int64"
      ]
     },
     "execution_count": 9,
     "metadata": {},
     "output_type": "execute_result"
    }
   ],
   "source": [
    "nan_columns = x.isna().sum()\n",
    "nan_columns"
   ]
  }
 ],
 "metadata": {
  "kernelspec": {
   "display_name": "Python 3",
   "language": "python",
   "name": "python3"
  },
  "language_info": {
   "codemirror_mode": {
    "name": "ipython",
    "version": 3
   },
   "file_extension": ".py",
   "mimetype": "text/x-python",
   "name": "python",
   "nbconvert_exporter": "python",
   "pygments_lexer": "ipython3",
   "version": "3.8.8"
  }
 },
 "nbformat": 4,
 "nbformat_minor": 5
}
